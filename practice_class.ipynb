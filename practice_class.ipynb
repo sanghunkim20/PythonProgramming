{
 "cells": [
  {
   "cell_type": "markdown",
   "metadata": {
    "id": "bQiARZhfQmcn"
   },
   "source": [
    "기본 적인 클래스를 정의한다."
   ]
  },
  {
   "cell_type": "code",
   "execution_count": 3,
   "metadata": {
    "id": "ibwwub0iNzWH"
   },
   "outputs": [],
   "source": [
    "class Animal():\n",
    "    def __init__(self,attack, defence):\n",
    "        #초기화함수\n",
    "        self.attack = attack\n",
    "        self.defence= defence\n",
    "        self.hp = 20\n",
    "        self.speed = 5\n",
    "    def angry(self):\n",
    "        self.attack += 1\n"
   ]
  },
  {
   "cell_type": "code",
   "execution_count": 5,
   "metadata": {
    "colab": {
     "base_uri": "https://localhost:8080/"
    },
    "id": "cdUM6DjVTYGJ",
    "outputId": "c02d25fb-e345-46b6-98fe-c4ece0c19244"
   },
   "outputs": [
    {
     "name": "stdout",
     "output_type": "stream",
     "text": [
      "10 1 20\n",
      "5 2 20\n"
     ]
    }
   ],
   "source": [
    "mypet = Animal(attack = 10, defence = 1)\n",
    "print(mypet.attack, mypet.defence, mypet.hp)\n",
    "\n",
    "mypet2 = Animal(attack = 5, defence = 2)\n",
    "print(mypet2.attack, mypet2.defence, mypet2.hp)"
   ]
  },
  {
   "cell_type": "code",
   "execution_count": 6,
   "metadata": {
    "colab": {
     "base_uri": "https://localhost:8080/"
    },
    "id": "oA577hrTPl51",
    "outputId": "4dc52783-c434-4e6a-dace-c44f3fed1042"
   },
   "outputs": [
    {
     "name": "stdout",
     "output_type": "stream",
     "text": [
      "10 1 20\n",
      "6 2 20\n"
     ]
    }
   ],
   "source": [
    "mypet2.angry()\n",
    "print(mypet.attack, mypet.defence, mypet.hp)\n",
    "print(mypet2.attack, mypet2.defence, mypet2.hp)"
   ]
  },
  {
   "cell_type": "markdown",
   "metadata": {
    "id": "lmTfkYsJRG1t"
   },
   "source": [
    "정보를 숨기기위한 방법"
   ]
  },
  {
   "cell_type": "code",
   "execution_count": 7,
   "metadata": {
    "id": "t3V7lvnCVIqm"
   },
   "outputs": [],
   "source": [
    "class Animal():\n",
    "    def __init__(self,attack, defence):\n",
    "        #초기화함수\n",
    "        self.attack = attack\n",
    "        self.defence= defence\n",
    "        ###정보숨기기\n",
    "        self.__hp = 20\n",
    "        ###\n",
    "        self.speed = 5\n",
    "    def angry(self):\n",
    "        self.attack += 1\n",
    "    def get_hp(self):\n",
    "        #접근자를 통한 조회\n",
    "        return self.__hp\n",
    "    def set_hp(self,hp):\n",
    "        #접근자를 통한 할당\n",
    "        self.__hp = hp"
   ]
  },
  {
   "cell_type": "code",
   "execution_count": 8,
   "metadata": {
    "colab": {
     "base_uri": "https://localhost:8080/",
     "height": 166
    },
    "id": "5njHZatPQR-b",
    "outputId": "30f9659c-b5e3-4caf-9dc7-3162e1ef312b"
   },
   "outputs": [
    {
     "ename": "AttributeError",
     "evalue": "'Animal' object has no attribute '__hp'",
     "output_type": "error",
     "traceback": [
      "\u001b[1;31m---------------------------------------------------------------------------\u001b[0m",
      "\u001b[1;31mAttributeError\u001b[0m                            Traceback (most recent call last)",
      "Cell \u001b[1;32mIn[8], line 2\u001b[0m\n\u001b[0;32m      1\u001b[0m mypet3 \u001b[38;5;241m=\u001b[39m Animal(attack \u001b[38;5;241m=\u001b[39m \u001b[38;5;241m10\u001b[39m, defence \u001b[38;5;241m=\u001b[39m \u001b[38;5;241m1\u001b[39m)\n\u001b[1;32m----> 2\u001b[0m \u001b[38;5;28mprint\u001b[39m(mypet3\u001b[38;5;241m.\u001b[39mattack, mypet3\u001b[38;5;241m.\u001b[39mdefence, mypet3\u001b[38;5;241m.\u001b[39m__hp)\n",
      "\u001b[1;31mAttributeError\u001b[0m: 'Animal' object has no attribute '__hp'"
     ]
    }
   ],
   "source": [
    "mypet3 = Animal(attack = 10, defence = 1)\n",
    "print(mypet3.attack, mypet3.defence, mypet3.__hp)"
   ]
  },
  {
   "cell_type": "code",
   "execution_count": 50,
   "metadata": {
    "colab": {
     "base_uri": "https://localhost:8080/"
    },
    "id": "1NGBG-TpQgzb",
    "outputId": "b646c63e-ab91-45e2-f169-8802339382bd"
   },
   "outputs": [
    {
     "name": "stdout",
     "output_type": "stream",
     "text": [
      "20\n",
      "30\n"
     ]
    }
   ],
   "source": [
    "print(mypet3.get_hp())\n",
    "\n",
    "mypet3.set_hp(30)\n",
    "print(mypet3.get_hp())"
   ]
  },
  {
   "cell_type": "markdown",
   "metadata": {
    "id": "mp0NmQkfRM3P"
   },
   "source": [
    "클래스 상속\n",
    "Dog 클래스를 만들어본다."
   ]
  },
  {
   "cell_type": "code",
   "execution_count": 51,
   "metadata": {
    "id": "Lm3_bNJXQT06"
   },
   "outputs": [],
   "source": [
    "class Dog(Animal):\n",
    "    def __init__(self,attack, defence,name):\n",
    "        super().__init__(attack, defence)\n",
    "        self.name = name"
   ]
  },
  {
   "cell_type": "code",
   "execution_count": 52,
   "metadata": {
    "colab": {
     "base_uri": "https://localhost:8080/"
    },
    "id": "KLGtwm-lRfQ4",
    "outputId": "cee8aa95-b52b-494b-f4eb-aa789a10652d"
   },
   "outputs": [
    {
     "name": "stdout",
     "output_type": "stream",
     "text": [
      "10 1 gae\n",
      "20\n"
     ]
    }
   ],
   "source": [
    "mydog1 = Dog(attack = 10, defence = 1, name = \"gae\")\n",
    "print(mydog1.attack, mydog1.defence, mydog1.name)\n",
    "print(mydog1.get_hp())"
   ]
  },
  {
   "cell_type": "code",
   "execution_count": 71,
   "metadata": {
    "id": "iIhaY6KhRiGv"
   },
   "outputs": [],
   "source": [
    "class Dog(Animal):\n",
    "    def __init__(self,attack, defence,name):\n",
    "        super().__init__(attack, defence)\n",
    "        self.name = name\n",
    "\n",
    "    def bite(self, other):\n",
    "        print(f\"{self.name} 가 {other.name} 을 물었다!\")\n",
    "        other.set_hp(other.get_hp() - self.attack)\n",
    "        other.show_hp()\n",
    "\n",
    "    def show_hp(self):\n",
    "        print(f\"현재 {self.name}의 체력은 {self.get_hp()}입니다.\")\n",
    "\n",
    "\n",
    "class Cat(Animal):\n",
    "    def __init__(self,attack, defence,name):\n",
    "        super().__init__(attack, defence)\n",
    "        self.name = name\n",
    "\n",
    "    def scratch(self, other):\n",
    "        print(f\"{self.name} 가 {other.name} 을 2번 할퀴었다!\")\n",
    "        other.set_hp(int(other.get_hp() - self.attack * 1.5))\n",
    "        other.show_hp()\n",
    "\n",
    "    def show_hp(self):\n",
    "        print(f\"현재 {self.name}의 체력은 {self.get_hp()}입니다.\")"
   ]
  },
  {
   "cell_type": "code",
   "execution_count": 72,
   "metadata": {
    "colab": {
     "base_uri": "https://localhost:8080/"
    },
    "id": "-yjHMBl1TCqa",
    "outputId": "dbbc85ea-1c6c-444b-99ae-daabaf4b98f0"
   },
   "outputs": [
    {
     "name": "stdout",
     "output_type": "stream",
     "text": [
      "현재 고양이의 체력은 20입니다.\n",
      "개 가 고양이 을 물었다!\n",
      "현재 고양이의 체력은 10입니다.\n"
     ]
    }
   ],
   "source": [
    "mydog = Dog(attack = 10, defence = 1, name = \"개\")\n",
    "mycat= Cat(attack = 8, defence = 1, name = \"고양이\")\n",
    "\n",
    "mycat.show_hp()\n",
    "mydog.bite(mycat)"
   ]
  },
  {
   "cell_type": "code",
   "execution_count": 73,
   "metadata": {
    "colab": {
     "base_uri": "https://localhost:8080/"
    },
    "id": "8L7FAx7CTSXh",
    "outputId": "7c079376-503b-44d7-c869-5e38d9e7e405"
   },
   "outputs": [
    {
     "name": "stdout",
     "output_type": "stream",
     "text": [
      "현재 개의 체력은 20입니다.\n",
      "고양이 가 개 을 2번 할퀴었다!\n",
      "현재 개의 체력은 6입니다.\n"
     ]
    }
   ],
   "source": [
    "mydog.show_hp()\n",
    "\n",
    "mycat.angry()\n",
    "mycat.scratch(mydog)\n"
   ]
  },
  {
   "cell_type": "code",
   "execution_count": null,
   "metadata": {
    "id": "PcZUwqMrV-jG"
   },
   "outputs": [],
   "source": []
  }
 ],
 "metadata": {
  "colab": {
   "provenance": []
  },
  "kernelspec": {
   "display_name": "Python 3 (ipykernel)",
   "language": "python",
   "name": "python3"
  },
  "language_info": {
   "codemirror_mode": {
    "name": "ipython",
    "version": 3
   },
   "file_extension": ".py",
   "mimetype": "text/x-python",
   "name": "python",
   "nbconvert_exporter": "python",
   "pygments_lexer": "ipython3",
   "version": "3.11.7"
  }
 },
 "nbformat": 4,
 "nbformat_minor": 4
}
