{
  "nbformat": 4,
  "nbformat_minor": 0,
  "metadata": {
    "colab": {
      "provenance": []
    },
    "kernelspec": {
      "name": "python3",
      "display_name": "Python 3"
    },
    "language_info": {
      "name": "python"
    }
  },
  "cells": [
    {
      "cell_type": "markdown",
      "source": [
        "기본 적인 클래스를 정의한다."
      ],
      "metadata": {
        "id": "bQiARZhfQmcn"
      }
    },
    {
      "cell_type": "code",
      "source": [
        "class Animal():\n",
        "    def __init__(self,attack, defence):\n",
        "        #초기화함수\n",
        "        self.attack = attack\n",
        "        self.defence= defence\n",
        "        self.hp = 20\n",
        "        self.speed = 5\n",
        "    def angry(self):\n",
        "        self.attack += 1\n"
      ],
      "metadata": {
        "id": "ibwwub0iNzWH"
      },
      "execution_count": 15,
      "outputs": []
    },
    {
      "cell_type": "code",
      "source": [
        "mypet = Animal(attack = 10, defence = 1)\n",
        "print(mypet.attack, mypet.defence, mypet.hp)\n",
        "\n",
        "mypet2 = Animal(attack = 5, defence = 2)\n",
        "print(mypet2.attack, mypet2.defence, mypet2.hp)"
      ],
      "metadata": {
        "colab": {
          "base_uri": "https://localhost:8080/"
        },
        "id": "cdUM6DjVTYGJ",
        "outputId": "c02d25fb-e345-46b6-98fe-c4ece0c19244"
      },
      "execution_count": 16,
      "outputs": [
        {
          "output_type": "stream",
          "name": "stdout",
          "text": [
            "10 1 20\n",
            "5 2 20\n"
          ]
        }
      ]
    },
    {
      "cell_type": "code",
      "source": [
        "mypet2.angry()\n",
        "print(mypet.attack, mypet.defence, mypet.hp)\n",
        "print(mypet2.attack, mypet2.defence, mypet2.hp)"
      ],
      "metadata": {
        "colab": {
          "base_uri": "https://localhost:8080/"
        },
        "id": "oA577hrTPl51",
        "outputId": "4dc52783-c434-4e6a-dace-c44f3fed1042"
      },
      "execution_count": 17,
      "outputs": [
        {
          "output_type": "stream",
          "name": "stdout",
          "text": [
            "10 1 20\n",
            "6 2 20\n"
          ]
        }
      ]
    },
    {
      "cell_type": "markdown",
      "source": [
        "정보를 숨기기위한 방법"
      ],
      "metadata": {
        "id": "lmTfkYsJRG1t"
      }
    },
    {
      "cell_type": "code",
      "source": [
        "class Animal():\n",
        "    def __init__(self,attack, defence):\n",
        "        #초기화함수\n",
        "        self.attack = attack\n",
        "        self.defence= defence\n",
        "        ###정보숨기기\n",
        "        self.__hp = 20\n",
        "        ###\n",
        "        self.speed = 5\n",
        "    def angry(self):\n",
        "        self.attack += 1\n",
        "    def get_hp(self):\n",
        "        #접근자를 통한 조회\n",
        "        return self.__hp\n",
        "    def set_hp(self,hp):\n",
        "        #접근자를 통한 할당\n",
        "        self.__hp = hp"
      ],
      "metadata": {
        "id": "t3V7lvnCVIqm"
      },
      "execution_count": 48,
      "outputs": []
    },
    {
      "cell_type": "code",
      "source": [
        "mypet3 = Animal(attack = 10, defence = 1)\n",
        "print(mypet3.attack, mypet3.defence, mypet3.__hp)"
      ],
      "metadata": {
        "colab": {
          "base_uri": "https://localhost:8080/",
          "height": 166
        },
        "id": "5njHZatPQR-b",
        "outputId": "30f9659c-b5e3-4caf-9dc7-3162e1ef312b"
      },
      "execution_count": 49,
      "outputs": [
        {
          "output_type": "error",
          "ename": "AttributeError",
          "evalue": "'Animal' object has no attribute '__hp'",
          "traceback": [
            "\u001b[0;31m---------------------------------------------------------------------------\u001b[0m",
            "\u001b[0;31mAttributeError\u001b[0m                            Traceback (most recent call last)",
            "\u001b[0;32m<ipython-input-49-fc287f6844fc>\u001b[0m in \u001b[0;36m<cell line: 2>\u001b[0;34m()\u001b[0m\n\u001b[1;32m      1\u001b[0m \u001b[0mmypet3\u001b[0m \u001b[0;34m=\u001b[0m \u001b[0mAnimal\u001b[0m\u001b[0;34m(\u001b[0m\u001b[0mattack\u001b[0m \u001b[0;34m=\u001b[0m \u001b[0;36m10\u001b[0m\u001b[0;34m,\u001b[0m \u001b[0mdefence\u001b[0m \u001b[0;34m=\u001b[0m \u001b[0;36m1\u001b[0m\u001b[0;34m)\u001b[0m\u001b[0;34m\u001b[0m\u001b[0;34m\u001b[0m\u001b[0m\n\u001b[0;32m----> 2\u001b[0;31m \u001b[0mprint\u001b[0m\u001b[0;34m(\u001b[0m\u001b[0mmypet3\u001b[0m\u001b[0;34m.\u001b[0m\u001b[0mattack\u001b[0m\u001b[0;34m,\u001b[0m \u001b[0mmypet3\u001b[0m\u001b[0;34m.\u001b[0m\u001b[0mdefence\u001b[0m\u001b[0;34m,\u001b[0m \u001b[0mmypet3\u001b[0m\u001b[0;34m.\u001b[0m\u001b[0m__hp\u001b[0m\u001b[0;34m)\u001b[0m\u001b[0;34m\u001b[0m\u001b[0;34m\u001b[0m\u001b[0m\n\u001b[0m",
            "\u001b[0;31mAttributeError\u001b[0m: 'Animal' object has no attribute '__hp'"
          ]
        }
      ]
    },
    {
      "cell_type": "code",
      "source": [
        "print(mypet3.get_hp())\n",
        "\n",
        "mypet3.set_hp(30)\n",
        "print(mypet3.get_hp())"
      ],
      "metadata": {
        "colab": {
          "base_uri": "https://localhost:8080/"
        },
        "id": "1NGBG-TpQgzb",
        "outputId": "b646c63e-ab91-45e2-f169-8802339382bd"
      },
      "execution_count": 50,
      "outputs": [
        {
          "output_type": "stream",
          "name": "stdout",
          "text": [
            "20\n",
            "30\n"
          ]
        }
      ]
    },
    {
      "cell_type": "markdown",
      "source": [
        "클래스 상속\n",
        "Dog 클래스를 만들어본다."
      ],
      "metadata": {
        "id": "mp0NmQkfRM3P"
      }
    },
    {
      "cell_type": "code",
      "source": [
        "class Dog(Animal):\n",
        "    def __init__(self,attack, defence,name):\n",
        "        super().__init__(attack, defence)\n",
        "        self.name = name"
      ],
      "metadata": {
        "id": "Lm3_bNJXQT06"
      },
      "execution_count": 51,
      "outputs": []
    },
    {
      "cell_type": "code",
      "source": [
        "mydog1 = Dog(attack = 10, defence = 1, name = \"gae\")\n",
        "print(mydog1.attack, mydog1.defence, mydog1.name)\n",
        "print(mydog1.get_hp())"
      ],
      "metadata": {
        "colab": {
          "base_uri": "https://localhost:8080/"
        },
        "id": "KLGtwm-lRfQ4",
        "outputId": "cee8aa95-b52b-494b-f4eb-aa789a10652d"
      },
      "execution_count": 52,
      "outputs": [
        {
          "output_type": "stream",
          "name": "stdout",
          "text": [
            "10 1 gae\n",
            "20\n"
          ]
        }
      ]
    },
    {
      "cell_type": "code",
      "source": [
        "class Dog(Animal):\n",
        "    def __init__(self,attack, defence,name):\n",
        "        super().__init__(attack, defence)\n",
        "        self.name = name\n",
        "\n",
        "    def bite(self, other):\n",
        "        print(f\"{self.name} 가 {other.name} 을 물었다!\")\n",
        "        other.set_hp(other.get_hp() - self.attack)\n",
        "        other.show_hp()\n",
        "\n",
        "    def show_hp(self):\n",
        "        print(f\"현재 {self.name}의 체력은 {self.get_hp()}입니다.\")\n",
        "\n",
        "\n",
        "class Cat(Animal):\n",
        "    def __init__(self,attack, defence,name):\n",
        "        super().__init__(attack, defence)\n",
        "        self.name = name\n",
        "\n",
        "    def scratch(self, other):\n",
        "        print(f\"{self.name} 가 {other.name} 을 2번 할퀴었다!\")\n",
        "        other.set_hp(int(other.get_hp() - self.attack * 1.5))\n",
        "        other.show_hp()\n",
        "\n",
        "    def show_hp(self):\n",
        "        print(f\"현재 {self.name}의 체력은 {self.get_hp()}입니다.\")"
      ],
      "metadata": {
        "id": "iIhaY6KhRiGv"
      },
      "execution_count": 71,
      "outputs": []
    },
    {
      "cell_type": "code",
      "source": [
        "mydog = Dog(attack = 10, defence = 1, name = \"개\")\n",
        "mycat= Cat(attack = 8, defence = 1, name = \"고양이\")\n",
        "\n",
        "mycat.show_hp()\n",
        "mydog.bite(mycat)"
      ],
      "metadata": {
        "colab": {
          "base_uri": "https://localhost:8080/"
        },
        "id": "-yjHMBl1TCqa",
        "outputId": "dbbc85ea-1c6c-444b-99ae-daabaf4b98f0"
      },
      "execution_count": 72,
      "outputs": [
        {
          "output_type": "stream",
          "name": "stdout",
          "text": [
            "현재 고양이의 체력은 20입니다.\n",
            "개 가 고양이 을 물었다!\n",
            "현재 고양이의 체력은 10입니다.\n"
          ]
        }
      ]
    },
    {
      "cell_type": "code",
      "source": [
        "mydog.show_hp()\n",
        "\n",
        "mycat.angry()\n",
        "mycat.scratch(mydog)\n"
      ],
      "metadata": {
        "colab": {
          "base_uri": "https://localhost:8080/"
        },
        "id": "8L7FAx7CTSXh",
        "outputId": "7c079376-503b-44d7-c869-5e38d9e7e405"
      },
      "execution_count": 73,
      "outputs": [
        {
          "output_type": "stream",
          "name": "stdout",
          "text": [
            "현재 개의 체력은 20입니다.\n",
            "고양이 가 개 을 2번 할퀴었다!\n",
            "현재 개의 체력은 6입니다.\n"
          ]
        }
      ]
    },
    {
      "cell_type": "code",
      "source": [],
      "metadata": {
        "id": "PcZUwqMrV-jG"
      },
      "execution_count": null,
      "outputs": []
    }
  ]
}