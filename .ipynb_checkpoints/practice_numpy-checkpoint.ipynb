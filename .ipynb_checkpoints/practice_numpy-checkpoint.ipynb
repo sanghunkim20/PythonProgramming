{
 "cells": [
  {
   "cell_type": "code",
   "execution_count": 9,
   "id": "7cf166e0-066c-4b1c-9de4-6c508b265e25",
   "metadata": {},
   "outputs": [
    {
     "name": "stdout",
     "output_type": "stream",
     "text": [
      "[[1 2 3]\n",
      " [4 5 6]\n",
      " [1 2 3]\n",
      " [4 5 6]]\n"
     ]
    }
   ],
   "source": [
    "import numpy as np\n",
    "\n",
    "a= np.array([[1,2,3], [4,5,6], [1,2,3], [4,5,6]])\n",
    "print(a)"
   ]
  },
  {
   "cell_type": "code",
   "execution_count": 14,
   "id": "a7c970a1-c87c-4d4f-ad79-acc4b7dc1b47",
   "metadata": {},
   "outputs": [
    {
     "name": "stdout",
     "output_type": "stream",
     "text": [
      "[1. 1.]\n",
      "[0. 0.]\n",
      "[4.24399158e-314 8.48798317e-314 1.27319747e-313]\n",
      "[7 7 7]\n"
     ]
    }
   ],
   "source": [
    "# 초기 자리 표시자 \n",
    "arr = np.ones(2)\n",
    "print(arr)\n",
    "\n",
    "arr = np.zeros(2)\n",
    "print(arr)\n",
    "\n",
    "# 빈 배열\n",
    "em_arr = np.empty(3)\n",
    "print(em_arr)\n",
    "\n",
    "# 특정 숫자가 있는 배열\n",
    "full_arr = np.full(3, 7)\n",
    "print(full_arr)"
   ]
  },
  {
   "cell_type": "code",
   "execution_count": 15,
   "id": "5f925652-ae01-4818-9ab3-16ae6ee02c17",
   "metadata": {},
   "outputs": [
    {
     "name": "stdout",
     "output_type": "stream",
     "text": [
      "[[1. 0. 0.]\n",
      " [0. 1. 0.]\n",
      " [0. 0. 1.]]\n"
     ]
    }
   ],
   "source": [
    "# 매트릭스 생성\n",
    "print(np.eye(3))"
   ]
  },
  {
   "cell_type": "code",
   "execution_count": 16,
   "id": "a095c66b-e2c7-4bda-ac2a-a2be5065ccf7",
   "metadata": {},
   "outputs": [
    {
     "name": "stdout",
     "output_type": "stream",
     "text": [
      "[[0.47866755 0.24402499]\n",
      " [0.07905625 0.71107617]]\n"
     ]
    }
   ],
   "source": [
    "# 임의의 값으로 배열\n",
    "arr = np.random.random((2,2))\n",
    "print(arr)"
   ]
  },
  {
   "cell_type": "code",
   "execution_count": 17,
   "id": "31ec46f2-e6c8-4a46-8d0b-6430a0422b88",
   "metadata": {},
   "outputs": [
    {
     "name": "stdout",
     "output_type": "stream",
     "text": [
      "[0 1 2 3]\n"
     ]
    }
   ],
   "source": [
    "# 범위가 있는 배열\n",
    "arr = np.arange(4)\n",
    "print(arr)"
   ]
  },
  {
   "cell_type": "code",
   "execution_count": 18,
   "id": "0b9843dc-4b15-48bc-a23c-3f8e352f4289",
   "metadata": {},
   "outputs": [
    {
     "name": "stdout",
     "output_type": "stream",
     "text": [
      "[2 4 6 8]\n"
     ]
    }
   ],
   "source": [
    "# 균일한 간격의 범위의 배열\n",
    "arr = np.arange(2, 9, 2)\n",
    "print(arr)"
   ]
  },
  {
   "cell_type": "code",
   "execution_count": 20,
   "id": "c8299514-7df5-495d-8b13-bfca0a8831df",
   "metadata": {},
   "outputs": [
    {
     "name": "stdout",
     "output_type": "stream",
     "text": [
      "[ 0.   2.5  5.   7.5 10. ]\n"
     ]
    }
   ],
   "source": [
    "# 간격에서 선형으로 간격을 둔 값이 있는 배열\n",
    "arr = np.linspace(0, 10, num=5)\n",
    "print(arr)"
   ]
  },
  {
   "cell_type": "code",
   "execution_count": 22,
   "id": "ada0bcff-fd83-4f36-909a-ca8de89fd76b",
   "metadata": {},
   "outputs": [
    {
     "name": "stdout",
     "output_type": "stream",
     "text": [
      "float32\n"
     ]
    }
   ],
   "source": [
    "# 데이터 유형 확인\n",
    "arr = np.array([0,1,2,3,4,5], dtype='f')\n",
    "print(arr.dtype)"
   ]
  },
  {
   "cell_type": "code",
   "execution_count": 24,
   "id": "b9e206a0-ad22-4150-b054-7afe1692b91d",
   "metadata": {},
   "outputs": [
    {
     "name": "stdout",
     "output_type": "stream",
     "text": [
      "[1 2 3]\n",
      "int32\n"
     ]
    }
   ],
   "source": [
    "# 데이터 유형을 변환\n",
    "arr = np.array([1.1,2.1,3.1])\n",
    "newarr = arr.astype('i')\n",
    "print(newarr)\n",
    "print(newarr.dtype)"
   ]
  },
  {
   "cell_type": "code",
   "execution_count": 30,
   "id": "1f3ff53a-6398-4682-ab3a-2424dd7fdca3",
   "metadata": {},
   "outputs": [
    {
     "name": "stdout",
     "output_type": "stream",
     "text": [
      "3\n",
      "24\n",
      "3\n",
      "(3, 2, 4)\n"
     ]
    }
   ],
   "source": [
    "# 배열 검사\n",
    "import numpy as np\n",
    "array_example = np.array([[[0, 1, 2, 3],\n",
    "                             [4, 5, 6, 7]],\n",
    "                             [[0, 1, 2, 3],\n",
    "                             [4, 5, 6, 7]],\n",
    "                             [[0 ,1 ,2, 3],\n",
    "                             [4, 5, 6, 7]]])\n",
    "#print(array_example)\n",
    "print(array_example.ndim)\n",
    "print(array_example.size)\n",
    "print(len(array_example))\n",
    "print(array_example.shape)"
   ]
  },
  {
   "cell_type": "code",
   "execution_count": 31,
   "id": "5ea46b9a-39b5-458d-832a-944fe60fd091",
   "metadata": {},
   "outputs": [
    {
     "name": "stdout",
     "output_type": "stream",
     "text": [
      "[[0 1]\n",
      " [2 3]\n",
      " [4 5]]\n"
     ]
    }
   ],
   "source": [
    "# 배열 조작\n",
    "a = np.arange(6)\n",
    "b = a.reshape(3, 2)\n",
    "print(b)"
   ]
  },
  {
   "cell_type": "code",
   "execution_count": 32,
   "id": "7f4ded85-f73d-4895-8b7a-14b72b2512a0",
   "metadata": {},
   "outputs": [
    {
     "name": "stdout",
     "output_type": "stream",
     "text": [
      "[1 2 3 4 5 6]\n"
     ]
    }
   ],
   "source": [
    "# 배열 병합\n",
    "arr = np.array([[1,2,3], [4,5,6]])\n",
    "newarr = arr.reshape(-1)\n",
    "print(newarr)"
   ]
  },
  {
   "cell_type": "code",
   "execution_count": 36,
   "id": "7883a254-a512-40ba-9d31-c25db76fc101",
   "metadata": {},
   "outputs": [
    {
     "name": "stdout",
     "output_type": "stream",
     "text": [
      "[1 2 3 4 5 6]\n"
     ]
    }
   ],
   "source": [
    "arr1 = np.array([1,2,3])\n",
    "arr2 = np.array([4,5,6])\n",
    "arr = np.concatenate((arr1, arr2))\n",
    "print(arr)"
   ]
  },
  {
   "cell_type": "code",
   "execution_count": 41,
   "id": "5bcb6824-e01b-4068-8b0e-00eaf93a65b4",
   "metadata": {},
   "outputs": [
    {
     "name": "stdout",
     "output_type": "stream",
     "text": [
      "[[1 4]\n",
      " [2 5]\n",
      " [3 6]]\n"
     ]
    }
   ],
   "source": [
    "# 스택\n",
    "arr = np.stack((arr1, arr2), axis=1)\n",
    "print(arr)"
   ]
  },
  {
   "cell_type": "code",
   "execution_count": 42,
   "id": "1621bc2d-4b08-456b-a101-ce89a2a3ac1a",
   "metadata": {},
   "outputs": [
    {
     "name": "stdout",
     "output_type": "stream",
     "text": [
      "[array([1, 2]), array([3, 4]), array([5, 6])]\n"
     ]
    }
   ],
   "source": [
    "# 배열 자르기\n",
    "arr = np.array([1,2,3,4,5,6])\n",
    "newarr = np.array_split(arr,3)\n",
    "print(newarr)"
   ]
  },
  {
   "cell_type": "code",
   "execution_count": 43,
   "id": "dc6064b7-412d-4465-b621-166526460174",
   "metadata": {},
   "outputs": [
    {
     "name": "stdout",
     "output_type": "stream",
     "text": [
      "(array([3, 5, 6], dtype=int64),)\n"
     ]
    }
   ],
   "source": [
    "arr = np.array([1, 2, 3, 4, 5, 4, 4])\n",
    "x = np.where(arr==4)\n",
    "print(x)"
   ]
  },
  {
   "cell_type": "code",
   "execution_count": 44,
   "id": "e6db98fc-917e-4d8d-b36c-186d92b65a65",
   "metadata": {},
   "outputs": [
    {
     "name": "stdout",
     "output_type": "stream",
     "text": [
      "[ 5  6  7  8  9 10]\n"
     ]
    }
   ],
   "source": [
    "a = np.arange(15)\n",
    "index = np.where( (a>=5) & (a<=10))\n",
    "print(a[index])"
   ]
  },
  {
   "cell_type": "code",
   "execution_count": 50,
   "id": "6498d82d-c640-4b18-83e8-ae5efa93b1f7",
   "metadata": {},
   "outputs": [
    {
     "name": "stdout",
     "output_type": "stream",
     "text": [
      "[0 1 2 3 4 5 6 7 8 9]\n",
      "[1 2 3 4 5 4 4]\n"
     ]
    }
   ],
   "source": [
    "a = np.arange(15)\n",
    "b = np.arange(10)\n",
    "newarr = np.intersect1d(a,b)\n",
    "print(newarr)\n"
   ]
  },
  {
   "cell_type": "code",
   "execution_count": 51,
   "id": "59c2f0e5-1845-42bc-a017-115a55c4f2bd",
   "metadata": {},
   "outputs": [
    {
     "name": "stdout",
     "output_type": "stream",
     "text": [
      "[1 2 3 4 5 4 4]\n"
     ]
    }
   ],
   "source": [
    "a = np.arange(15)\n",
    "b = np.arange(10)\n",
    "diffarr = np.setdiff1d(a,b)\n",
    "print(arr)"
   ]
  },
  {
   "cell_type": "code",
   "execution_count": null,
   "id": "c7a7b32b-a6dc-4da1-af36-d6785758de5f",
   "metadata": {},
   "outputs": [],
   "source": []
  }
 ],
 "metadata": {
  "kernelspec": {
   "display_name": "Python 3 (ipykernel)",
   "language": "python",
   "name": "python3"
  },
  "language_info": {
   "codemirror_mode": {
    "name": "ipython",
    "version": 3
   },
   "file_extension": ".py",
   "mimetype": "text/x-python",
   "name": "python",
   "nbconvert_exporter": "python",
   "pygments_lexer": "ipython3",
   "version": "3.11.7"
  }
 },
 "nbformat": 4,
 "nbformat_minor": 5
}
