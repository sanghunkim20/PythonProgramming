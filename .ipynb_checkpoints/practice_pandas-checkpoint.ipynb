{
 "cells": [
  {
   "cell_type": "code",
   "execution_count": 2,
   "id": "0c19f98c-7fea-4e08-85c4-b62f07638d9e",
   "metadata": {},
   "outputs": [
    {
     "name": "stdout",
     "output_type": "stream",
     "text": [
      "1    A\n",
      "2    B\n",
      "3    C\n",
      "4    D\n",
      "5    E\n",
      "dtype: object\n"
     ]
    }
   ],
   "source": [
    "import pandas as pd\n",
    "import numpy as np\n",
    "\n",
    "data = np.array(['A', 'B', 'C', 'D', 'E'])\n",
    "df = pd.Series(data, index=[1,2,3,4,5])\n",
    "print(df)"
   ]
  },
  {
   "cell_type": "code",
   "execution_count": 9,
   "id": "7808b0ca-3fb3-47d0-97b9-88fe0e1be968",
   "metadata": {},
   "outputs": [
    {
     "name": "stdout",
     "output_type": "stream",
     "text": [
      "    Name  Age\n",
      "0    Tim   35\n",
      "1  Sonya   30\n",
      "2  Sunny   34\n"
     ]
    }
   ],
   "source": [
    "data = [['Tim', 35], ['Sonya', 30], ['Sunny', 34]]\n",
    "df = pd.DataFrame(data, columns=['Name','Age'])\n",
    "print(df)"
   ]
  },
  {
   "cell_type": "code",
   "execution_count": 15,
   "id": "748c2a03-d0cb-4b3a-a797-1becb7e02330",
   "metadata": {},
   "outputs": [
    {
     "name": "stdout",
     "output_type": "stream",
     "text": [
      "           Artist Genre  Listeners     Plyas\n",
      "0  Billie Holiday  Jazz    1300000  27000000\n",
      "1    Jimi Hendrix  Rock    2700000  70000000\n",
      "2     Miles Davis  Jazz    1500000  48000000\n",
      "3             SIA   Pop    2000000  74000000\n"
     ]
    }
   ],
   "source": [
    "data = {'Artist':pd.Series(['Billie Holiday', 'Jimi Hendrix', 'Miles Davis', 'SIA']),\n",
    "        'Genre':pd.Series(['Jazz', 'Rock', 'Jazz', 'Pop']),\n",
    "        'Listeners':pd.Series([1300000, 2700000, 1500000, 2000000]),\n",
    "        'Plays':pd.Series([27000000, 70000000, 48000000, 74000000])}\n",
    "df = pd.DataFrame(data)\n",
    "print(df)"
   ]
  },
  {
   "cell_type": "code",
   "execution_count": 17,
   "id": "227424a4-f99f-4846-8af9-453f294b9274",
   "metadata": {},
   "outputs": [
    {
     "data": {
      "text/plain": [
       "Index(['Artist', 'Genre', 'Listeners', 'Plyas'], dtype='object')"
      ]
     },
     "execution_count": 17,
     "metadata": {},
     "output_type": "execute_result"
    }
   ],
   "source": [
    "df.rename(columns={'Plays':'Streaming'}, inplace=True)\n",
    "df.columns"
   ]
  },
  {
   "cell_type": "code",
   "execution_count": null,
   "id": "26122ff8-a24e-477e-91c0-c0fc7f2f4698",
   "metadata": {},
   "outputs": [],
   "source": []
  }
 ],
 "metadata": {
  "kernelspec": {
   "display_name": "Python 3 (ipykernel)",
   "language": "python",
   "name": "python3"
  },
  "language_info": {
   "codemirror_mode": {
    "name": "ipython",
    "version": 3
   },
   "file_extension": ".py",
   "mimetype": "text/x-python",
   "name": "python",
   "nbconvert_exporter": "python",
   "pygments_lexer": "ipython3",
   "version": "3.11.7"
  }
 },
 "nbformat": 4,
 "nbformat_minor": 5
}
